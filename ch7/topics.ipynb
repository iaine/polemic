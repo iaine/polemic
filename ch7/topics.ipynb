{
 "cells": [
  {
   "cell_type": "code",
   "execution_count": null,
   "id": "1a7ceda1",
   "metadata": {},
   "outputs": [],
   "source": [
    "import datetime\n",
    "import time\n",
    "import gensim\n",
    "from gensim.matutils import argsort\n",
    "from gensim.models.coherencemodel import CoherenceModel\n",
    "from gensim.topic_coherence import segmentation\n",
    "from gensim.topic_coherence import probability_estimation\n",
    "from gensim.topic_coherence import direct_confirmation_measure\n",
    "from gensim.topic_coherence.aggregation import arithmetic_mean\n",
    "from nltk.corpus import stopwords\n",
    "import numpy as np\n",
    "import pandas as pd\n",
    "from sklearn.feature_extraction.text import CountVectorizer\n",
    "from yappyChuck import Client\n",
    "\n",
    "client = Client()"
   ]
  },
  {
   "cell_type": "code",
   "execution_count": null,
   "id": "10e5da30",
   "metadata": {},
   "outputs": [],
   "source": [
    "df = pd.read_csv('../enmi.csv')"
   ]
  },
  {
   "cell_type": "markdown",
   "id": "988ccbde",
   "metadata": {},
   "source": [
    "Stop list words"
   ]
  },
  {
   "cell_type": "code",
   "execution_count": null,
   "id": "9279c4bd",
   "metadata": {},
   "outputs": [],
   "source": [
    "stoplist = stopwords.words('english')\n",
    "stoplist += ['enmi18'] #remove the main hashtag as it appears everywhere\n",
    "stoplist += ['rt', 'dm', 'ht']#remove Twitter specific language\n",
    "stoplist += stopwords.words('french')\n",
    "vect = CountVectorizer(stop_words=stoplist, \n",
    "                       token_pattern='(?u)\\\\b\\\\w\\\\w\\\\w+\\\\b')"
   ]
  },
  {
   "cell_type": "code",
   "execution_count": null,
   "id": "97ab69d1",
   "metadata": {},
   "outputs": [],
   "source": [
    "X = vect.fit_transform(df.text)\n",
    "corpus = gensim.matutils.Sparse2Corpus(X, documents_columns=False)"
   ]
  },
  {
   "cell_type": "code",
   "execution_count": null,
   "id": "c8754912",
   "metadata": {},
   "outputs": [],
   "source": [
    "number_of_topics = 5\n",
    "model = gensim.models.LdaModel(corpus, id2word = dict((v, k) for k, v in vect.vocabulary_.items()), \n",
    "                               num_topics=number_of_topics)"
   ]
  },
  {
   "cell_type": "markdown",
   "id": "6c1318f2",
   "metadata": {},
   "source": [
    "### Sonify the Topic Models\n",
    "\n",
    "Before we can sonify the models, let's print them out.  "
   ]
  },
  {
   "cell_type": "code",
   "execution_count": null,
   "id": "f4914d56",
   "metadata": {},
   "outputs": [],
   "source": [
    "for idx, topic_words in model.show_topics():\n",
    "    topic_word = ','.join([k.split('*')[1] for k in topic_words.split('+')])\n",
    "    print(\"{} -> {}\".format(idx, topic_word))"
   ]
  },
  {
   "cell_type": "code",
   "execution_count": null,
   "id": "e63b194c",
   "metadata": {},
   "outputs": [],
   "source": [
    "#@todo: put together a DSL for the sound\n",
    "# hack to allow either a frequency or a sample\n",
    "# sample -> { sample: name of file, vol:volume , dur:sample_speed }\n",
    "# frequency -> { freq: float, vol: volume, dur: duration }\n",
    "topics = {}\n",
    "topics[1] = {'freq':130.24, 'vol': 0.5, 'dur':0.4 }\n",
    "topics[3] = {'freq':224.32, 'vol': 0.4, 'dur':0.2 }"
   ]
  },
  {
   "cell_type": "code",
   "execution_count": null,
   "id": "fdd29853",
   "metadata": {},
   "outputs": [],
   "source": [
    "#tf = tfidf_vectorizer.fit_transform(df['cleaner_text'])\n",
    "#doc_topic = lda.transform(tf)\n",
    "print(topics)\n",
    "\n",
    "#make the assumption that a user may not want to sonify all topics. \n",
    "for tops in model.get_document_topics(corpus):\n",
    "    for topic in tops:\n",
    "        if topic[0] in topics:\n",
    "            n = topic[0]\n",
    "            #do something\n",
    "            if \"sample\" in topics and topics[n]['sample'] != '':\n",
    "                client.send(\"sample:{}:{}:{}:{}\".format(topics[n]['sample'], topics[n]['vol'], topics[n]['dur'], topics[n]['speed']))\n",
    "            elif \"freq\" in topics[n]:\n",
    "                #test for freq. If exists, then use. \n",
    "                client.send(\"topic:{}:{}:{}\".format(topics[n]['freq'] + topic[1], topics[n]['vol'] + topic[1], topics[n]['dur'] + topic[1]))\n",
    "\n",
    "    time.sleep(1)"
   ]
  },
  {
   "cell_type": "code",
   "execution_count": null,
   "id": "4d0e8874",
   "metadata": {},
   "outputs": [],
   "source": []
  }
 ],
 "metadata": {
  "kernelspec": {
   "display_name": "Python 3",
   "language": "python",
   "name": "python3"
  },
  "language_info": {
   "codemirror_mode": {
    "name": "ipython",
    "version": 3
   },
   "file_extension": ".py",
   "mimetype": "text/x-python",
   "name": "python",
   "nbconvert_exporter": "python",
   "pygments_lexer": "ipython3",
   "version": "3.9.7"
  }
 },
 "nbformat": 4,
 "nbformat_minor": 5
}
