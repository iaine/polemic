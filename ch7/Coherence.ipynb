{
 "cells": [
  {
   "cell_type": "code",
   "execution_count": null,
   "id": "da2c9e66",
   "metadata": {},
   "outputs": [],
   "source": [
    "import datetime\n",
    "import gensim\n",
    "from gensim.matutils import argsort\n",
    "from gensim.models.coherencemodel import CoherenceModel\n",
    "from gensim.topic_coherence import segmentation\n",
    "from gensim.topic_coherence import probability_estimation\n",
    "from gensim.topic_coherence import direct_confirmation_measure\n",
    "from gensim.topic_coherence.aggregation import arithmetic_mean\n",
    "\n",
    "import numpy as np\n",
    "\n",
    "from nltk.corpus import stopwords\n",
    "import pandas as pd\n",
    "from sklearn.feature_extraction.text import CountVectorizer\n",
    "\n",
    "from yappyChuck import Client\n",
    "\n",
    "client = Client()"
   ]
  },
  {
   "cell_type": "markdown",
   "id": "3e3ec6c7",
   "metadata": {},
   "source": [
    "Read the data in here. "
   ]
  },
  {
   "cell_type": "code",
   "execution_count": null,
   "id": "5b99db7a",
   "metadata": {},
   "outputs": [],
   "source": [
    "df = pd.read_csv('../enmi.csv')"
   ]
  },
  {
   "cell_type": "markdown",
   "id": "afaf93b3",
   "metadata": {},
   "source": [
    "Set up the stop list and vectorise the data"
   ]
  },
  {
   "cell_type": "code",
   "execution_count": null,
   "id": "c5474476",
   "metadata": {},
   "outputs": [],
   "source": [
    "stoplist = stopwords.words('english')\n",
    "stoplist += ['enmi18']\n",
    "stoplist += ['rt', 'dm', 'ht']#remove Twitter specific language\n",
    "stoplist += stopwords.words('french')\n",
    "vect = CountVectorizer(stop_words=stoplist, \n",
    "                       token_pattern='(?u)\\\\b\\\\w\\\\w\\\\w+\\\\b')"
   ]
  },
  {
   "cell_type": "markdown",
   "id": "60bdad15",
   "metadata": {},
   "source": [
    "Create the corpus from the vector"
   ]
  },
  {
   "cell_type": "code",
   "execution_count": null,
   "id": "255c93e8",
   "metadata": {},
   "outputs": [],
   "source": [
    "X = vect.fit_transform(df.text)\n",
    "corpus = gensim.matutils.Sparse2Corpus(X, documents_columns=False)"
   ]
  },
  {
   "cell_type": "markdown",
   "id": "3b8a88a5",
   "metadata": {},
   "source": [
    "Now to create the LDA model"
   ]
  },
  {
   "cell_type": "code",
   "execution_count": null,
   "id": "abecf5db",
   "metadata": {},
   "outputs": [],
   "source": [
    "number_of_topics = 5\n",
    "model = gensim.models.LdaModel(corpus, id2word = dict((v, k) for k, v in vect.vocabulary_.items()), \n",
    "                               num_topics=number_of_topics)"
   ]
  },
  {
   "cell_type": "markdown",
   "id": "a465eeb8",
   "metadata": {},
   "source": [
    "### Create the coherence\n",
    "\n",
    "Now to set up the coherence parts"
   ]
  },
  {
   "cell_type": "code",
   "execution_count": null,
   "id": "0c83bbec",
   "metadata": {},
   "outputs": [],
   "source": [
    "#getting the topics out is the key to this\n",
    "# toppn is set to 20 by default. Appears to be a key in getting closer to 0.\n",
    "topics = [argsort(topic, topn=5, reverse=True) for topic in model.get_topics()]\n",
    "topics"
   ]
  },
  {
   "cell_type": "code",
   "execution_count": null,
   "id": "cd9e706a",
   "metadata": {},
   "outputs": [],
   "source": [
    "segmented_topics = segmentation.s_one_pre(topics)"
   ]
  },
  {
   "cell_type": "markdown",
   "id": "7eb415c6",
   "metadata": {},
   "source": [
    "Set up the probability estimations against the "
   ]
  },
  {
   "cell_type": "code",
   "execution_count": null,
   "id": "aedac58b",
   "metadata": {},
   "outputs": [],
   "source": [
    "result = probability_estimation.p_boolean_document(corpus, segmented_topics)"
   ]
  },
  {
   "cell_type": "markdown",
   "id": "bfd72cc0",
   "metadata": {},
   "source": [
    "Let's sonify the probabilities here. "
   ]
  },
  {
   "cell_type": "code",
   "execution_count": null,
   "id": "d55e471e",
   "metadata": {},
   "outputs": [],
   "source": [
    "#each of these is an index in t above. \n",
    "import time\n",
    "import math\n",
    "\n",
    "def cent_to_note(num_cent, base_freq):\n",
    "    '''\n",
    "       Function to return a frequency from a base frequency and number of cents\n",
    "    '''\n",
    "    return base_freq * math.pow(2,(num_cent/1200))\n",
    "\n",
    "def freq_to_cent(current_freq, next_freq):\n",
    "    '''\n",
    "      Function to calculate a cent between two frequencies\n",
    "    '''\n",
    "    return np.dot(1200, math.log2((next_freq/current_freq)))\n",
    "\n",
    "#iterate over the \n",
    "for k,v in result.index_to_dict().items():\n",
    "    #convert the index to a float and send the new frequency\n",
    "    #need to handle if > 1000 - the frequency is bad. \n",
    "    msg = \"spectral:{0}:{1}\".format(float(k),len(v))\n",
    "    client.send(msg)\n",
    "    time.sleep(1)"
   ]
  },
  {
   "cell_type": "code",
   "execution_count": null,
   "id": "d803da2f",
   "metadata": {},
   "outputs": [],
   "source": [
    "avg = direct_confirmation_measure.log_conditional_probability(segmented_topics, result)\n",
    "avg"
   ]
  },
  {
   "cell_type": "code",
   "execution_count": null,
   "id": "61534ff2",
   "metadata": {},
   "outputs": [],
   "source": [
    "arithmetic_mean(avg)"
   ]
  }
 ],
 "metadata": {
  "kernelspec": {
   "display_name": "Python 3",
   "language": "python",
   "name": "python3"
  },
  "language_info": {
   "codemirror_mode": {
    "name": "ipython",
    "version": 3
   },
   "file_extension": ".py",
   "mimetype": "text/x-python",
   "name": "python",
   "nbconvert_exporter": "python",
   "pygments_lexer": "ipython3",
   "version": "3.9.7"
  }
 },
 "nbformat": 4,
 "nbformat_minor": 5
}
